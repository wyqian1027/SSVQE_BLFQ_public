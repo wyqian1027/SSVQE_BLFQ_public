{
 "cells": [
  {
   "cell_type": "markdown",
   "id": "5bfde951-cc5e-409d-bb76-867f5d0f9380",
   "metadata": {
    "tags": []
   },
   "source": [
    "# Demo: SSVQE BLFQ Observables\n",
    "\n",
    "WQ 07/18/2022\n",
    "\n",
    "##### The Subspace-search variational quantum eigensolver (SSVQE) algorithm is described in [Subspace-search variational quantum eigensolver for excited states](https://journals.aps.org/prresearch/abstract/10.1103/PhysRevResearch.1.033062)\n",
    "\n",
    "##### This notebook is a demo on how to use SSVQE simulation result to calculate BLFQ observables: \n",
    "* State visualzation with density matrix\n",
    "* Decay constants\n",
    "* Parton distribution functions\n",
    "\n",
    "##### which is used in the recent paper, [Solving hadron structures using the basis light-front quantization approach on quantum computers](https://journals.aps.org/prresearch/abstract/10.1103/PhysRevResearch.4.043193).\n",
    "\n",
    "##### Note:\n",
    "1. In practice, we would need to run simulation multiple times to obtain reasonable results.\n",
    "2. The generated data are stored as PICKLE files under output/prev_simulations/ directory."
   ]
  },
  {
   "cell_type": "code",
   "execution_count": 1,
   "id": "164aa6a2-67b7-43a3-8e8c-e3a74cffe8f1",
   "metadata": {},
   "outputs": [],
   "source": [
    "import os, sys, importlib\n",
    "import numpy as np\n",
    "import matplotlib.pyplot as plt\n",
    "from math import sqrt\n",
    "from time import time\n",
    "%matplotlib inline\n",
    "\n",
    "from qiskit import Aer, IBMQ\n",
    "from qiskit.algorithms import NumPyEigensolver, NumPyMinimumEigensolver\n",
    "from qiskit.circuit.library import EfficientSU2\n",
    "from qiskit.utils import QuantumInstance\n",
    "from qiskit.opflow import CircuitSampler\n",
    "from qiskit.providers.aer.noise import NoiseModel\n",
    "from qiskit.utils.mitigation import CompleteMeasFitter\n",
    "from qiskit.visualization import plot_state_hinton\n",
    "\n",
    "# Local package\n",
    "library = os.path.abspath(\"./src\")\n",
    "assert os.path.isdir(library)\n",
    "if library not in sys.path: \n",
    "    sys.path.append(library)\n",
    "    \n",
    "import operators, tools, visualization, simulator \n",
    "import init_state, ansatz, optimization_result\n",
    "import solver_VQE, solver_SSVQE\n",
    "import blfq, blfq_quantum, print_formatter\n",
    "\n",
    "def reload():\n",
    "    importlib.reload(operators)\n",
    "    importlib.reload(tools)\n",
    "    importlib.reload(visualization)\n",
    "    importlib.reload(simulator)\n",
    "    importlib.reload(init_state)\n",
    "    importlib.reload(ansatz)\n",
    "    importlib.reload(optimization_result)\n",
    "    importlib.reload(solver_SSVQE)\n",
    "    importlib.reload(solver_VQE)\n",
    "    importlib.reload(blfq)\n",
    "    importlib.reload(blfq_quantum)\n",
    "    importlib.reload(print_formatter)\n",
    "reload()\n",
    "\n",
    "from simulator import sv_qi, qasm_qi, qasm_sim, sv_sim, make_qi\n",
    "from solver_SSVQE import get_exp_val\n",
    "qasm_qi_big = make_qi(qasm_sim, 20000)\n"
   ]
  },
  {
   "cell_type": "markdown",
   "id": "1802744e-f069-4eaa-a025-df8aa2c17873",
   "metadata": {
    "tags": []
   },
   "source": [
    "# Problem setup"
   ]
  },
  {
   "cell_type": "code",
   "execution_count": 5,
   "id": "c6fdad32-4d35-49a4-b6ef-ec3bef2f149b",
   "metadata": {},
   "outputs": [],
   "source": [
    "fn_N1L1 = f'H_data/N1L1/Ham_Total_a0p89_mf0p30_kap0p56_mJ0_mug0.02_grid64_N1_L1_lambda0p00.dat'\n",
    "fn_N4L1 = f'H_data/N4L1/Ham_Total_a0p89_mf0p38_kap0p56_mJ0_mug0.02_grid64_N4_L1_lambda0p00.dat'\n",
    "fn_N4L3 = f\"H_data/N4L3/Ham_Total_a0p89_mf0p40_kap0p56_mJ0_mug0.02_grid64_N4_L3_lambda0p00.dat\""
   ]
  },
  {
   "cell_type": "code",
   "execution_count": 6,
   "id": "fb7464c5-cd45-4cc3-b841-4f086fa83327",
   "metadata": {},
   "outputs": [
    {
     "name": "stdout",
     "output_type": "stream",
     "text": [
      "[[ 568486.7        0.     25428.09       0.  ]\n",
      " [      0.   1700976.         0.    -15766.91]\n",
      " [  25428.09       0.    568486.7        0.  ]\n",
      " [      0.    -15766.91       0.   1700976.  ]]\n",
      "\n",
      "1134731.35 * II\n",
      "- 566244.6499999999 * IZ\n",
      "+ 4830.590000000001 * XI\n",
      "+ 20597.5 * XZ\n",
      "\n",
      "[543058.6100000001, 593914.79, 1685209.09, 1716742.91]\n"
     ]
    }
   ],
   "source": [
    "def get_Ham_and_Operator_and_Exact_from_files(N=1, L=1, encoding='compact', verbose=0):\n",
    "    fn = \"\"\n",
    "    if N==1 and L==1: fn = fn_N1L1\n",
    "    if N==4 and L==1: fn = fn_N4L1\n",
    "    if N==4 and L==3: fn = fn_N4L3\n",
    "    assert fn != \"\", \"Invalid N and L parameters!\"\n",
    "    Hamiltonian = tools.load_Ham_data_by_threshold(fn)\n",
    "    Hamiltonian = Hamiltonian*1000*1000    # mass squared energy units: GeV^2 to MeV^2\n",
    "    operator = operators.MatrixEncoding(Hamiltonian, encoding=encoding).get_operator()\n",
    "    exact = list(sorted(np.linalg.eigvals(Hamiltonian)))\n",
    "    if verbose != 0: \n",
    "        print(Hamiltonian)\n",
    "        print()\n",
    "        print(operator)\n",
    "        print()\n",
    "        print(exact)    \n",
    "    return Hamiltonian, operator, exact\n",
    "\n",
    "Hamiltonian, operator, exact = get_Ham_and_Operator_and_Exact_from_files(N=1, L=1, encoding='compact', verbose=1)"
   ]
  },
  {
   "cell_type": "code",
   "execution_count": 7,
   "id": "6f1c3406-5caf-40ce-824f-ea7b75be91f7",
   "metadata": {
    "tags": []
   },
   "outputs": [
    {
     "data": {
      "text/plain": [
       "'II'"
      ]
     },
     "execution_count": 7,
     "metadata": {},
     "output_type": "execute_result"
    }
   ],
   "source": [
    "operator[0].to_pauli_op().primitive.__str__()"
   ]
  },
  {
   "cell_type": "code",
   "execution_count": 8,
   "id": "4ee375da-2ee0-4456-bfa1-75b27e9c7912",
   "metadata": {},
   "outputs": [],
   "source": [
    "# sanity checking\n",
    "spect_N1L1 = f'H_data/N1L1/spectrum_a0p89_mf0p30_kap0p56_mJ0_mug0.02_grid64_N1_L1_lambda0p00.dat'\n",
    "spect_N4L1 = f'H_data/N4L1/spectrum_a0p89_mf0p38_kap0p56_mJ0_mug0.02_grid64_N4_L1_lambda0p00.dat'\n",
    "spect_N4L3 = f\"H_data/N4L3/spectrum_a0p89_mf0p40_kap0p56_mJ0_mug0.02_grid64_N4_L3_lambda0p00.dat\"\n",
    "evect_N1L1 = f'H_data/N1L1/evect_a0p89_mf0p30_kap0p56_mJ0_mug0.02_grid64_N1_L1_lambda0p00.dat'\n",
    "evect_N4L1 = f'H_data/N4L1/evect_a0p89_mf0p38_kap0p56_mJ0_mug0.02_grid64_N4_L1_lambda0p00.dat'\n",
    "evect_N4L3 = f\"H_data/N4L3/evect_a0p89_mf0p40_kap0p56_mJ0_mug0.02_grid64_N4_L3_lambda0p00.dat\""
   ]
  },
  {
   "cell_type": "code",
   "execution_count": 10,
   "id": "952c6ff0-0956-4ff1-89d8-08aa5e550bed",
   "metadata": {},
   "outputs": [
    {
     "name": "stdout",
     "output_type": "stream",
     "text": [
      "#       f_p       f_v\n",
      "1   178.184     0.000\n",
      "2     0.000   178.184\n",
      "3     0.000     0.000\n",
      "4     0.000     0.000\n"
     ]
    }
   ],
   "source": [
    "blfq_N1L1 = blfq.BLFQ_file(fn_N1L1, spect_N1L1, evect_N1L1)\n",
    "blfq_N1L1.get_all_decays()"
   ]
  },
  {
   "cell_type": "code",
   "execution_count": 11,
   "id": "055ccc40-e0af-45d2-ab23-568cdf682be0",
   "metadata": {},
   "outputs": [
    {
     "name": "stdout",
     "output_type": "stream",
     "text": [
      "#       f_p       f_v\n",
      "1   199.364     0.000\n",
      "2     0.000   227.634\n",
      "3     0.000     0.000\n",
      "4   112.398     0.000\n"
     ]
    }
   ],
   "source": [
    "blfq_N4L1 = blfq.BLFQ_file(fn_N4L1, spect_N4L1, evect_N4L1)\n",
    "blfq_N4L1.get_all_decays()"
   ]
  },
  {
   "cell_type": "code",
   "execution_count": 12,
   "id": "b8bba2da-1505-4e0e-9bbd-6507a083fff3",
   "metadata": {},
   "outputs": [
    {
     "name": "stdout",
     "output_type": "stream",
     "text": [
      "#       f_p       f_v\n",
      "1   199.340     0.000\n",
      "2     0.000   229.254\n",
      "3     0.000     0.000\n",
      "4   116.460     0.000\n"
     ]
    }
   ],
   "source": [
    "blfq_N4L3 = blfq.BLFQ_file(fn_N4L3, spect_N4L3, evect_N4L3)\n",
    "blfq_N4L3.get_all_decays()"
   ]
  },
  {
   "cell_type": "code",
   "execution_count": null,
   "id": "bc39b088-5ba9-4696-9457-04825070a921",
   "metadata": {},
   "outputs": [],
   "source": []
  },
  {
   "cell_type": "code",
   "execution_count": 13,
   "id": "8e055391-f235-42cf-b16b-a7e169d91c02",
   "metadata": {},
   "outputs": [
    {
     "name": "stdout",
     "output_type": "stream",
     "text": [
      "[543058.6100000001, 593914.79, 1685209.09, 1716742.91]\n",
      "Expected cost = 1475911.14125\n",
      "Depth = 8\n",
      "Num Params = 12\n"
     ]
    },
    {
     "data": {
      "image/png": "[encoded data removed]",
      "text/plain": [
       "<Figure size 568.052x144.48 with 1 Axes>"
      ]
     },
     "execution_count": 13,
     "metadata": {},
     "output_type": "execute_result"
    }
   ],
   "source": [
    "n_qubit = 2\n",
    "n_state = 4\n",
    "\n",
    "Hamiltonian, operator, exact = get_Ham_and_Operator_and_Exact_from_files(N=1, L=1, encoding='compact')\n",
    "print(exact[:n_state])\n",
    "print(\"Expected cost =\", sum(exact[i]*(1/2**i) for i in range(n_state)))\n",
    "\n",
    "# ANSATZ\n",
    "myansatz = EfficientSU2(n_qubit, ['ry','rz'], 'linear', reps=2).decompose()\n",
    "print(\"Depth =\", myansatz.depth())\n",
    "print(\"Num Params =\", myansatz.num_parameters)\n",
    "\n",
    "# INITIAL STATES\n",
    "ref_states = init_state.get_ref_states(n_qubit, n_state)\n",
    "\n",
    "myansatz.draw()"
   ]
  },
  {
   "cell_type": "markdown",
   "id": "313d7e9e-5a17-40a3-a97a-133a5f7df9d1",
   "metadata": {},
   "source": [
    "# Optimization results"
   ]
  },
  {
   "cell_type": "code",
   "execution_count": null,
   "id": "c6467ade-8bd4-4635-8482-58fa64f2d744",
   "metadata": {},
   "outputs": [],
   "source": [
    "# QASM sampler\n",
    "qi_QASM = make_qi(qasm_sim, 20000)\n",
    "sampler_QASM = CircuitSampler(qi_QASM)\n",
    "\n",
    "# NQASM sampler\n",
    "provider = IBMQ.load_account()\n",
    "backend = provider.get_backend('ibm_nairobi')\n",
    "noise_model = NoiseModel.from_backend(backend)\n",
    "coupling_map = backend.configuration().coupling_map\n",
    "qi_NQASM = QuantumInstance(qasm_sim, shots=20000, noise_model=noise_model, coupling_map=coupling_map)\n",
    "sampler_NQASM = CircuitSampler(qi_NQASM)\n",
    "\n",
    "# NMQASM sampler\n",
    "qi_NMQASM = QuantumInstance(qasm_sim, shots=20000, noise_model=noise_model, coupling_map=coupling_map,\n",
    "                                measurement_error_mitigation_cls=CompleteMeasFitter, cals_matrix_refresh_period=90)\n",
    "sampler_NMQASM = CircuitSampler(qi_NMQASM)"
   ]
  },
  {
   "cell_type": "code",
   "execution_count": 83,
   "id": "b6f61725-386a-4c60-98b7-d47a08b5a112",
   "metadata": {},
   "outputs": [
    {
     "name": "stdout",
     "output_type": "stream",
     "text": [
      "OptimizationResult loaded.\n",
      "OptimizationResult loaded.\n",
      "OptimizationResult loaded.\n",
      "OptimizationResult loaded.\n"
     ]
    }
   ],
   "source": [
    "#  LOAD PREVIOUS SIMULATION DATA\n",
    "params_SV = optimization_result.OptimizationResult().load('output/prev_simulations/ssvqe_2qubit_4ref_exact_LBFGSB_07_18_16_27_48.pk').final_param[0]\n",
    "\n",
    "params_QASM = optimization_result.OptimizationResult().load('output/prev_simulations/ssvqe_2qubit_4ref_qasm_SPSA_07_18_16_27_09.pk').final_param[0]\n",
    "\n",
    "params_NQASM = optimization_result.OptimizationResult().load('output/prev_simulations/ssvqe_2qubit_4ref_noise_SPSA_07_18_16_11_56.pk').final_param[0]\n",
    "\n",
    "params_NMQASM = optimization_result.OptimizationResult().load('output/prev_simulations/ssvqe_2qubit_4ref_noise_miti_SPSA_07_18_15_44_54.pk').final_param[0]"
   ]
  },
  {
   "cell_type": "markdown",
   "id": "c74cb460-a9ae-4540-a133-e156d12780f3",
   "metadata": {
    "tags": []
   },
   "source": [
    "# Density matrix"
   ]
  },
  {
   "cell_type": "code",
   "execution_count": 46,
   "id": "ceb06b12-8751-4f63-9ccc-9a5d93e98a26",
   "metadata": {},
   "outputs": [
    {
     "data": {
      "image/png": "[encoded data removed]",
      "text/plain": [
       "<Figure size 576x432 with 2 Axes>"
      ]
     },
     "metadata": {
      "needs_background": "light"
     },
     "output_type": "display_data"
    }
   ],
   "source": [
    "# EXACT\n",
    "blfq_q = blfq_quantum.BLFQ_Quantum(myansatz, params_SV, ref_states, sampler=None)\n",
    "p = blfq_q.get_eigenstate(0)\n",
    "visualization.plot_state_hinton2(p, fs=20)"
   ]
  },
  {
   "cell_type": "code",
   "execution_count": 47,
   "id": "38cdbd9b-166f-492d-bd49-770e33f2c2c3",
   "metadata": {},
   "outputs": [
    {
     "data": {
      "image/png": "[encoded data removed]",
      "text/plain": [
       "<Figure size 576x432 with 2 Axes>"
      ]
     },
     "metadata": {
      "needs_background": "light"
     },
     "output_type": "display_data"
    }
   ],
   "source": [
    "q = blfq_q.get_eigenstate(1)\n",
    "visualization.plot_state_hinton2(q, fs=20)"
   ]
  },
  {
   "cell_type": "code",
   "execution_count": 20,
   "id": "44ee47a0-f458-4d56-81dc-441b41c7bea6",
   "metadata": {},
   "outputs": [
    {
     "data": {
      "text/plain": [
       "0.17818381418787335"
      ]
     },
     "execution_count": 20,
     "metadata": {},
     "output_type": "execute_result"
    }
   ],
   "source": [
    "# CALCULATE DECAY CONSTANT BASED ON DENSITY MATRIX\n",
    "np.abs(blfq.compute_decay_base_on_quantum_amp(blfq_N1L1.get_evect(0), p.data, 0.30, 0.56))"
   ]
  },
  {
   "cell_type": "code",
   "execution_count": 48,
   "id": "fcfbad8a-233a-4b9e-bc8f-c89cb5977ce3",
   "metadata": {},
   "outputs": [
    {
     "data": {
      "image/png": "[encoded data removed]",
      "text/plain": [
       "<Figure size 576x432 with 2 Axes>"
      ]
     },
     "metadata": {
      "needs_background": "light"
     },
     "output_type": "display_data"
    }
   ],
   "source": [
    "# QASM\n",
    "blfq_q = blfq_quantum.BLFQ_Quantum(myansatz, params_QASM, ref_states, sampler=sampler_QASM)\n",
    "p = blfq_q.get_eigenstate(0)\n",
    "visualization.plot_state_hinton2(p, fs=20)"
   ]
  },
  {
   "cell_type": "code",
   "execution_count": 49,
   "id": "9f6a4e57-0a05-4f9c-aa99-998a43cfcbf8",
   "metadata": {},
   "outputs": [
    {
     "data": {
      "image/png": "[encoded data removed]",
      "text/plain": [
       "<Figure size 576x432 with 2 Axes>"
      ]
     },
     "metadata": {
      "needs_background": "light"
     },
     "output_type": "display_data"
    }
   ],
   "source": [
    "q = blfq_q.get_eigenstate(1)\n",
    "visualization.plot_state_hinton2(q, fs=20)"
   ]
  },
  {
   "cell_type": "code",
   "execution_count": 50,
   "id": "49bbe4fd-8399-4374-b72b-07304efa0f70",
   "metadata": {},
   "outputs": [
    {
     "data": {
      "image/png": "[encoded data removed]",
      "text/plain": [
       "<Figure size 576x432 with 2 Axes>"
      ]
     },
     "metadata": {
      "needs_background": "light"
     },
     "output_type": "display_data"
    }
   ],
   "source": [
    "# NOISE QASM\n",
    "blfq_q = blfq_quantum.BLFQ_Quantum(myansatz, params_NQASM, ref_states, sampler=sampler_NQASM)\n",
    "p = blfq_q.get_eigenstate(0)\n",
    "visualization.plot_state_hinton2(p, fs=20)"
   ]
  },
  {
   "cell_type": "code",
   "execution_count": 51,
   "id": "5d2a4309-8da2-4ac7-969f-22a109611c22",
   "metadata": {},
   "outputs": [
    {
     "data": {
      "image/png": "[encoded data removed]",
      "text/plain": [
       "<Figure size 576x432 with 2 Axes>"
      ]
     },
     "metadata": {
      "needs_background": "light"
     },
     "output_type": "display_data"
    }
   ],
   "source": [
    "q = blfq_q.get_eigenstate(1)\n",
    "visualization.plot_state_hinton2(q, fs=20)"
   ]
  },
  {
   "cell_type": "code",
   "execution_count": 53,
   "id": "22eab4d9-be3b-4dc1-8360-a1b29a94eb3f",
   "metadata": {},
   "outputs": [
    {
     "data": {
      "image/png": "[encoded data removed]",
      "text/plain": [
       "<Figure size 576x432 with 2 Axes>"
      ]
     },
     "metadata": {
      "needs_background": "light"
     },
     "output_type": "display_data"
    }
   ],
   "source": [
    "# NOISE MITIGATED QASM\n",
    "blfq_q = blfq_quantum.BLFQ_Quantum(myansatz, params_NMQASM, ref_states, sampler=sampler_NMQASM)\n",
    "p = blfq_q.get_eigenstate(0)\n",
    "visualization.plot_state_hinton2(p, fs=20)"
   ]
  },
  {
   "cell_type": "code",
   "execution_count": 54,
   "id": "fbf16935-4420-4180-8489-42624dec5ef0",
   "metadata": {},
   "outputs": [
    {
     "data": {
      "image/png": "[encoded data removed]",
      "text/plain": [
       "<Figure size 576x432 with 2 Axes>"
      ]
     },
     "metadata": {
      "needs_background": "light"
     },
     "output_type": "display_data"
    }
   ],
   "source": [
    "q = blfq_q.get_eigenstate(1)\n",
    "visualization.plot_state_hinton2(q, fs=20)"
   ]
  },
  {
   "cell_type": "code",
   "execution_count": 55,
   "id": "50dee50c-cb02-4713-9530-b77db1fd3b7f",
   "metadata": {},
   "outputs": [
    {
     "name": "stdout",
     "output_type": "stream",
     "text": [
      "0.1763377504473757\n",
      "0.17633531868136976\n"
     ]
    }
   ],
   "source": [
    "print(np.abs(blfq.compute_decay_base_on_quantum_amp(blfq_N1L1.get_evect(0), p.data, 0.3, 0.56, 'p')))\n",
    "print(np.abs(blfq.compute_decay_base_on_quantum_amp(blfq_N1L1.get_evect(1), blfq_q.get_eigenstate(1).data, 0.3, 0.56, 'v')))"
   ]
  },
  {
   "cell_type": "markdown",
   "id": "76f982e7-1bd9-40fb-a6a8-eee2928635b6",
   "metadata": {
    "tags": []
   },
   "source": [
    "# Decay constant"
   ]
  },
  {
   "cell_type": "code",
   "execution_count": 56,
   "id": "fe7e6e9a-9cfb-4b41-9954-80d37d261323",
   "metadata": {},
   "outputs": [
    {
     "data": {
      "text/plain": [
       "array([[ 0.   ,  0.   ,  0.   , -1.   ,  1.   ,  0.707],\n",
       "       [ 0.   ,  0.   ,  1.   , -1.   ,  1.   ,  0.   ],\n",
       "       [ 0.   ,  0.   ,  0.   ,  1.   , -1.   , -0.707],\n",
       "       [ 0.   ,  0.   ,  1.   ,  1.   , -1.   ,  0.   ]])"
      ]
     },
     "execution_count": 56,
     "metadata": {},
     "output_type": "execute_result"
    }
   ],
   "source": [
    "np.round(blfq_N1L1.get_evect(), 3)"
   ]
  },
  {
   "cell_type": "code",
   "execution_count": 57,
   "id": "15edc2f8-1cfb-4093-b01f-5d2fc3f4091f",
   "metadata": {},
   "outputs": [],
   "source": [
    "pi_op = blfq_quantum.construct_decay_op_from_blfq(blfq_N1L1, 0, decay='p', verbose=0)\n",
    "rho_op = blfq_quantum.construct_decay_op_from_blfq(blfq_N1L1, 1, decay='v', verbose=0)"
   ]
  },
  {
   "cell_type": "code",
   "execution_count": 58,
   "id": "8329e6db-d69f-4e17-9b40-4efebdac5274",
   "metadata": {},
   "outputs": [
    {
     "name": "stdout",
     "output_type": "stream",
     "text": [
      "0.007937367938438392 * II\n",
      "+ 0.007937367938438392 * IZ\n",
      "- 0.007937367938438392 * XI\n",
      "- 0.007937367938438392 * XZ\n"
     ]
    }
   ],
   "source": [
    "print(pi_op)"
   ]
  },
  {
   "cell_type": "code",
   "execution_count": 59,
   "id": "95dd8ea9-ea5b-4c9d-82ec-0557f1f852f8",
   "metadata": {},
   "outputs": [
    {
     "name": "stdout",
     "output_type": "stream",
     "text": [
      "0.007937367938438392 * II\n",
      "+ 0.007937367938438392 * IZ\n",
      "+ 0.007937367938438392 * XI\n",
      "+ 0.007937367938438392 * XZ\n"
     ]
    }
   ],
   "source": [
    "print(rho_op)"
   ]
  },
  {
   "cell_type": "code",
   "execution_count": 61,
   "id": "e9a76c78-0407-4a82-b72a-517ad786d2e5",
   "metadata": {},
   "outputs": [
    {
     "name": "stdout",
     "output_type": "stream",
     "text": [
      "[178.18381419   0.        ]\n",
      "[178.18381419   0.        ]\n"
     ]
    }
   ],
   "source": [
    "params = params_SV\n",
    "sampler = None\n",
    "print(blfq_quantum.get_decay_from_sim(myansatz, params, pi_op, init_state.get_ref_states(2, 4)[0], sampler=sampler, exp_method='factory'))\n",
    "print(blfq_quantum.get_decay_from_sim(myansatz, params, rho_op, init_state.get_ref_states(2, 4)[1], sampler=sampler, exp_method='factory'))"
   ]
  },
  {
   "cell_type": "code",
   "execution_count": 62,
   "id": "95a28fd1-691a-4af8-a578-37295145160b",
   "metadata": {},
   "outputs": [],
   "source": [
    "qi_QASM = make_qi(qasm_sim, 20000)\n",
    "sampler_QASM = CircuitSampler(qi_QASM)"
   ]
  },
  {
   "cell_type": "code",
   "execution_count": 63,
   "id": "6457b21a-3132-4b16-989c-351c8120706d",
   "metadata": {},
   "outputs": [
    {
     "name": "stdout",
     "output_type": "stream",
     "text": [
      "[177.09803972   4.95938214]\n",
      "[177.21005195   4.82811302]\n"
     ]
    }
   ],
   "source": [
    "params = params_QASM\n",
    "sampler = sampler_QASM\n",
    "print(blfq_quantum.get_decay_from_sim(myansatz, params, pi_op, init_state.get_ref_states(2, 4)[0], sampler=sampler, exp_method='pauli'))\n",
    "print(blfq_quantum.get_decay_from_sim(myansatz, params, rho_op, init_state.get_ref_states(2, 4)[1], sampler=sampler, exp_method='pauli'))"
   ]
  },
  {
   "cell_type": "code",
   "execution_count": 67,
   "id": "bec15e66-8615-4492-98f6-e1b09e13cb7d",
   "metadata": {},
   "outputs": [
    {
     "name": "stdout",
     "output_type": "stream",
     "text": [
      "[165.02938184   8.85486945]\n",
      "[166.28951387   8.67558084]\n"
     ]
    }
   ],
   "source": [
    "params = params_NQASM\n",
    "sampler = sampler_NQASM\n",
    "print(blfq_quantum.get_decay_from_sim(myansatz, params, pi_op, init_state.get_ref_states(2, 4)[0], sampler=sampler, exp_method='pauli'))\n",
    "print(blfq_quantum.get_decay_from_sim(myansatz, params, rho_op, init_state.get_ref_states(2, 4)[1], sampler=sampler, exp_method='pauli'))"
   ]
  },
  {
   "cell_type": "code",
   "execution_count": 65,
   "id": "a734af83-a1ae-4013-b383-5aed7a7f79eb",
   "metadata": {},
   "outputs": [
    {
     "name": "stdout",
     "output_type": "stream",
     "text": [
      "[174.91080865   6.48425815]\n",
      "[174.43822324   6.69531149]\n"
     ]
    }
   ],
   "source": [
    "params = params_NMQASM\n",
    "sampler = sampler_NMQASM\n",
    "print(blfq_quantum.get_decay_from_sim(myansatz, params, pi_op, init_state.get_ref_states(2, 4)[0], sampler=sampler, exp_method='pauli'))\n",
    "print(blfq_quantum.get_decay_from_sim(myansatz, params, rho_op, init_state.get_ref_states(2, 4)[1], sampler=sampler, exp_method='pauli'))"
   ]
  },
  {
   "cell_type": "markdown",
   "id": "d110d975-7048-4e97-97b6-fe397b0e02a4",
   "metadata": {
    "tags": []
   },
   "source": [
    "# Parton Distribution Function"
   ]
  },
  {
   "cell_type": "code",
   "execution_count": 70,
   "id": "8a4ac320-d681-4006-91ee-738117743091",
   "metadata": {},
   "outputs": [
    {
     "name": "stdout",
     "output_type": "stream",
     "text": [
      "Group: (n,m,s1,s2) = (0, 0, -1, 1)\n",
      "Group: (n,m,s1,s2) = (0, 0, 1, -1)\n",
      "[[ 1.278 -1.176  0.     0.   ]\n",
      " [-1.176  1.083  0.     0.   ]\n",
      " [ 0.     0.     1.278 -1.176]\n",
      " [ 0.     0.    -1.176  1.083]]\n",
      "1.1803312523403884 * II\n",
      "- 1.1762945075143838 * IX\n",
      "+ 0.09753510569494128 * IZ\n"
     ]
    }
   ],
   "source": [
    "print(blfq_quantum.construct_pdf_op_from_blfq(blfq_N1L1,0,0.3,verbose=1))"
   ]
  },
  {
   "cell_type": "code",
   "execution_count": 73,
   "id": "4944fd5a-86ab-4a44-8437-09344f8fc514",
   "metadata": {},
   "outputs": [],
   "source": [
    "def plot_pdfs(xs, pdfs, errors=[], labels=[r'$q_\\pi(x)$', r'$q_\\rho(x)$'],\n",
    "              fs=24, figsize=(8,6), \n",
    "              legend_loc='best',\n",
    "              text_loc=(0.5, 1), text='',\n",
    "              no_left_label=False\n",
    "             ):\n",
    "    if 0 not in xs and 1 not in xs:\n",
    "        xs = np.concatenate([[0], xs, [1]])\n",
    "        pdfs = [np.concatenate([[0], pdf, [0]]) for pdf in pdfs]\n",
    "        if errors: errors = [np.concatenate([[0], error, [0]]) for error in errors]\n",
    "        # print(xs, pdfs, errors)\n",
    "    fig, axs = plt.subplots(1, 1, squeeze=False, figsize=figsize)\n",
    "    plt.rcParams[\"font.size\"] = fs\n",
    "    plt.rcParams[\"font.family\"] = \"Times New Roman\"\n",
    "    plt.rcParams[\"font.sans-serif\"] = [\"Times New Roman\"]\n",
    "    colors = ['r', 'g', 'b', 'orange', 'c', 'm', 'y', 'k']\n",
    "    linestyles = ['solid', 'dashed', 'dotted', 'dashdot']\n",
    "    markers = ['o', 's', '<', '>']\n",
    "    xmax = 0\n",
    "    for axis in ['top','bottom','left','right']:\n",
    "        axs[0,0].spines[axis].set_linewidth(1.5)\n",
    "\n",
    "\n",
    "    for i, pdf in enumerate(pdfs):\n",
    "        axs[0,0].plot(xs, pdf, linestyle=linestyles[i], lw=2, color=colors[i % len(colors)], \n",
    "                      markersize=8, marker=markers[i], \n",
    "                      label=labels[i],\n",
    "                      zorder=i)\n",
    "        if errors != []: \n",
    "            terrs = errors[i]\n",
    "            axs[0,0].errorbar(xs, pdf, yerr=terrs, lw=0,\n",
    "                              color=colors[i], capsize=10, capthick=1, elinewidth=0.5, marker=markers[i], markersize=0)\n",
    "    if not no_left_label: \n",
    "        axs[0,0].set_ylabel(r\"$q(x)$\", fontsize=fs) \n",
    "    axs[0,0].set_xlabel(r\"$x$\", fontsize=fs)\n",
    "    epslon = 0.05\n",
    "    axs[0,0].set_ylim(bottom=0-epslon, top=1.8+epslon)\n",
    "    axs[0,0].set_xlim(left=0-epslon, right=1+epslon)\n",
    "    axs[0,0].tick_params(axis='both', which='major', labelsize=fs) # choose 'both', 'x', 'y'\n",
    "\n",
    "    axs[0,0].axhline(y=1, xmin=0, xmax=1, ls=linestyles[2], lw=2, color='gray', #label='Exact' if i==0 else None,\n",
    "                    zorder=10)\n",
    "    axs[0,0].legend(fontsize=fs, loc=legend_loc)\n",
    "    # axs.plot()\n",
    "    axs[0,0].ticklabel_format(useOffset=False)\n",
    "\n",
    "    font = {'family': \"Times New Roman\",\n",
    "        'color':  'darkred',\n",
    "        'weight': 'normal',\n",
    "        'size': fs,\n",
    "    }    \n",
    "    axs[0,0].text(*text_loc, text, fontdict=font)\n",
    "\n",
    "    plt.show()\n"
   ]
  },
  {
   "cell_type": "code",
   "execution_count": 72,
   "id": "abbe2f83-5c67-4f39-9862-2b503250c5ba",
   "metadata": {},
   "outputs": [
    {
     "data": {
      "text/plain": [
       "[array([0.48312953, 0.93521746, 1.27786706, 1.4895598 , 1.56102452,\n",
       "        1.48955899, 1.27786566, 0.93521592, 0.48312847]),\n",
       " array([0.48312783, 0.93521499, 1.27786482, 1.4895585 , 1.56102452,\n",
       "        1.48956029, 1.2778679 , 0.93521838, 0.48313017])]"
      ]
     },
     "execution_count": 72,
     "metadata": {},
     "output_type": "execute_result"
    }
   ],
   "source": [
    "params = params_SV\n",
    "xs = np.arange(0.1,1.0, 0.1)\n",
    "pdf_0 = np.array([blfq_quantum.get_pdf_from_sim(myansatz, params, blfq_quantum.construct_pdf_op_from_blfq(blfq_N1L1, 0, x), init_state.get_ref_states(2, 4)[0], sampler=None, exp_method='factory') for x in xs])\n",
    "pdf_1 = np.array([blfq_quantum.get_pdf_from_sim(myansatz, params, blfq_quantum.construct_pdf_op_from_blfq(blfq_N1L1, 1, x), init_state.get_ref_states(2, 4)[1], sampler=None, exp_method='factory') for x in xs])\n",
    "pdf_SV = [pdf_0[:,0], pdf_1[:,0]]\n",
    "pdf_err_SV = [pdf_0[:,1], pdf_1[:,1]]\n",
    "pdf_SV"
   ]
  },
  {
   "cell_type": "code",
   "execution_count": 74,
   "id": "14069b4a-b942-4d13-820b-b029310ca4e4",
   "metadata": {},
   "outputs": [
    {
     "data": {
      "image/png": "[encoded data removed]",
      "text/plain": [
       "<Figure size 576x432 with 1 Axes>"
      ]
     },
     "metadata": {
      "needs_background": "light"
     },
     "output_type": "display_data"
    }
   ],
   "source": [
    "plot_pdfs(xs, pdf_SV, errors=pdf_err_SV)"
   ]
  },
  {
   "cell_type": "code",
   "execution_count": 78,
   "id": "dbafaedf-37e8-499b-bc81-6f21d9531206",
   "metadata": {},
   "outputs": [
    {
     "data": {
      "image/png": "[encoded data removed]",
      "text/plain": [
       "<Figure size 576x432 with 1 Axes>"
      ]
     },
     "metadata": {
      "needs_background": "light"
     },
     "output_type": "display_data"
    }
   ],
   "source": [
    "params = params_NMQASM\n",
    "sampler = sampler_NMQASM\n",
    "xs = np.arange(0.1,1.0, 0.1)\n",
    "pdf_0 = np.array([blfq_quantum.get_pdf_from_sim(myansatz, params, blfq_quantum.construct_pdf_op_from_blfq(blfq_N1L1, 0, x), init_state.get_ref_states(2, 4)[0], sampler=sampler, exp_method='pauli') for x in xs])\n",
    "pdf_1 = np.array([blfq_quantum.get_pdf_from_sim(myansatz, params, blfq_quantum.construct_pdf_op_from_blfq(blfq_N1L1, 1, x), init_state.get_ref_states(2, 4)[1], sampler=sampler, exp_method='pauli') for x in xs])\n",
    "pdf_NMQASM = [pdf_0[:,0], pdf_1[:,0]]\n",
    "pdf_err_NMQASM = [pdf_0[:,1], pdf_1[:,1]]\n",
    "plot_pdfs(xs, pdf_NMQASM, errors=pdf_err_NMQASM)"
   ]
  },
  {
   "cell_type": "code",
   "execution_count": null,
   "id": "9167a699-5f1f-4cbd-8a28-1b76a99e4ef8",
   "metadata": {},
   "outputs": [],
   "source": []
  }
 ],
 "metadata": {
  "kernelspec": {
   "display_name": "Python 3 (ipykernel)",
   "language": "python",
   "name": "python3"
  },
  "language_info": {
   "codemirror_mode": {
    "name": "ipython",
    "version": 3
   },
   "file_extension": ".py",
   "mimetype": "text/x-python",
   "name": "python",
   "nbconvert_exporter": "python",
   "pygments_lexer": "ipython3",
   "version": "3.8.13"
  }
 },
 "nbformat": 4,
 "nbformat_minor": 5
}
